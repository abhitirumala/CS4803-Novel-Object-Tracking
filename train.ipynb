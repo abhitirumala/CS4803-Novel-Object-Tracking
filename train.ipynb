{
 "cells": [
  {
   "cell_type": "code",
   "execution_count": 16,
   "metadata": {},
   "outputs": [],
   "source": [
    "import numpy as np\n",
    "import pandas as pd\n",
    "import matplotlib.pyplot as plt\n",
    "import torch\n",
    "import torch.nn as nn\n",
    "import torch.nn.functional as F\n",
    "\n",
    "from dataloader import *\n",
    "from utils import *\n",
    "from models.CNN import CNNForecaster\n",
    "\n",
    "device = \"cuda:0\" if torch.cuda.is_available() else \"cpu\""
   ]
  },
  {
   "cell_type": "code",
   "execution_count": 17,
   "metadata": {},
   "outputs": [
    {
     "data": {
      "image/png": "[encoded data removed]",
      "text/plain": [
       "<Figure size 432x288 with 1 Axes>"
      ]
     },
     "metadata": {
      "needs_background": "light"
     },
     "output_type": "display_data"
    }
   ],
   "source": [
    "# Load the data\n",
    "path = 'data/box_training_data/'\n",
    "x_train = np.load(path + 'x_train.npy').astype(np.float32)\n",
    "y_train = np.load(path + 'y_train.npy').astype(np.float32)\n",
    "x_test = np.load(path + 'x_test.npy').astype(np.float32)\n",
    "y_test = np.load(path + 'y_test.npy').astype(np.float32)\n",
    "\n",
    "x_sample, y_sample = x_train[0], y_train[0]\n",
    "plt.plot(x_sample[0], x_sample[1], 'bo-')\n",
    "plt.plot(y_sample[0], y_sample[1], 'ro-')\n",
    "plt.show()"
   ]
  },
  {
   "cell_type": "code",
   "execution_count": 18,
   "metadata": {},
   "outputs": [],
   "source": [
    "\"\"\"\n",
    "Create dataloaders for training and testing with batch size 32\n",
    "\"\"\"\n",
    "\n",
    "class ForecastDataset(torch.utils.data.Dataset):\n",
    "    def __init__(self, features, labels):\n",
    "        self.features = features\n",
    "        self.labels = labels\n",
    "    \n",
    "    def __len__(self):\n",
    "        return len(self.features)\n",
    "    \n",
    "    def __getitem__(self, idx):\n",
    "        return self.features[idx], self.labels[idx]\n",
    "    \n",
    "def create_dataloader(features, labels, batch_size=1):\n",
    "    train_ds = ForecastDataset(features, labels)\n",
    "    train_dl = torch.utils.data.DataLoader(train_ds, batch_size=batch_size, shuffle=True)\n",
    "    return train_dl\n",
    "\n",
    "train_dataloader = create_dataloader(x_train, y_train, batch_size=32)\n",
    "test_dataloader = create_dataloader(x_test, y_test, batch_size=32)"
   ]
  },
  {
   "cell_type": "code",
   "execution_count": 19,
   "metadata": {},
   "outputs": [],
   "source": [
    "def train(model, train_dataloader, test_dataloader, epochs, optimizer, criterion):\n",
    "    \"\"\"\n",
    "    Train the model for the given number of epochs\n",
    "    \"\"\"\n",
    "    # Keep track of training and validation loss\n",
    "    train_losses = []\n",
    "    test_losses = []\n",
    "    for epoch in range(epochs):\n",
    "        # Training\n",
    "        avg_loss = 0\n",
    "        for i, (x, y) in enumerate(train_dataloader):\n",
    "            # Forward pass\n",
    "            y_pred = model(x)\n",
    "            y_pred = model.reshape_output(y_pred)\n",
    "            # Compute loss\n",
    "            loss = criterion(y_pred, y)\n",
    "            # Backward pass\n",
    "            optimizer.zero_grad()\n",
    "            loss.backward()\n",
    "            optimizer.step()\n",
    "            avg_loss += loss.item()\n",
    "                    \n",
    "        avg_loss = avg_loss / len(test_dataloader)\n",
    "        train_losses.append(avg_loss)\n",
    "        print(f'Epoch {epoch + 1}/{epochs} | Loss: {avg_loss:.4f}')\n",
    "        \n",
    "        # Validation\n",
    "        avg_loss = 0\n",
    "        for i, (x, y) in enumerate(test_dataloader):\n",
    "            # Forward pass\n",
    "            y_pred = model(x)\n",
    "            y_pred = model.reshape_output(y_pred)\n",
    "            # Compute loss\n",
    "            loss = criterion(y_pred, y)\n",
    "            avg_loss += loss.item()\n",
    "            \n",
    "        avg_loss = avg_loss / len(test_dataloader)\n",
    "        test_losses.append(loss.item())\n",
    "        print(f'Epoch {epoch + 1}/{epochs} | Validation Loss: {avg_loss:.4f}')\n",
    "    \n",
    "    return train_losses, test_losses\n",
    "\n",
    "def average_displacement_loss(y_pred, y):\n",
    "    \"\"\"\n",
    "    Compute the average displacement loss from two tensors\n",
    "    \"\"\"\n",
    "    def euclidean_distance(x, y):\n",
    "        return torch.sqrt(torch.sum((x - y)**2))\n",
    "\n",
    "    losses = []\n",
    "    for batch in range(y_pred.shape[0]):\n",
    "        distance_sum = 0\n",
    "        for i in range(y_pred.shape[1]):\n",
    "            distance_sum += euclidean_distance(y_pred[batch, i], y[batch, i])\n",
    "        distance_sum = distance_sum / y_pred.shape[1]\n",
    "        losses += [distance_sum]\n",
    "    \n",
    "    return torch.mean(torch.Tensor(losses))\n",
    "    \n",
    "def final_displacement_loss(y_pred, y):\n",
    "    \"\"\"\n",
    "    Compute the final displacement loss from two tensors\n",
    "    \"\"\"\n",
    "    def euclidean_distance(x, y):\n",
    "        return torch.sqrt(torch.sum((x - y)**2))\n",
    "\n",
    "    losses = []\n",
    "    for batch in range(y_pred.shape[0]):\n",
    "        distance = euclidean_distance(y_pred[batch, -1], y[batch, -1])\n",
    "        losses += [distance]\n",
    "    \n",
    "    return torch.mean(torch.Tensor(losses))\n",
    "\n",
    "model = CNNForecaster((4, 20), (4, 20), 4, 0.5, 64).to(device)\n",
    "optimizer = torch.optim.Adam(model.parameters(), lr=0.001)\n",
    "criterion = nn.MSELoss()\n"
   ]
  },
  {
   "cell_type": "code",
   "execution_count": 20,
   "metadata": {},
   "outputs": [
    {
     "name": "stdout",
     "output_type": "stream",
     "text": [
      "Epoch 1/10 | Loss: 25571.0455\n",
      "Epoch 1/10 | Validation Loss: 1951.7071\n",
      "Epoch 2/10 | Loss: 6378.5406\n",
      "Epoch 2/10 | Validation Loss: 1436.7090\n",
      "Epoch 3/10 | Loss: 5598.8667\n",
      "Epoch 3/10 | Validation Loss: 1394.7567\n",
      "Epoch 4/10 | Loss: 5584.0330\n",
      "Epoch 4/10 | Validation Loss: 1557.9309\n",
      "Epoch 5/10 | Loss: 5435.8774\n",
      "Epoch 5/10 | Validation Loss: 1338.8389\n",
      "Epoch 6/10 | Loss: 5342.1399\n",
      "Epoch 6/10 | Validation Loss: 1274.2337\n",
      "Epoch 7/10 | Loss: 5271.1647\n",
      "Epoch 7/10 | Validation Loss: 1333.5917\n",
      "Epoch 8/10 | Loss: 5155.5817\n",
      "Epoch 8/10 | Validation Loss: 1200.9724\n",
      "Epoch 9/10 | Loss: 4973.4886\n",
      "Epoch 9/10 | Validation Loss: 1225.3118\n",
      "Epoch 10/10 | Loss: 5088.0548\n",
      "Epoch 10/10 | Validation Loss: 1238.9943\n"
     ]
    },
    {
     "data": {
      "text/plain": [
       "[<matplotlib.lines.Line2D at 0x7fc3aefda390>]"
      ]
     },
     "execution_count": 20,
     "metadata": {},
     "output_type": "execute_result"
    },
    {
     "data": {
      "image/png": "[encoded data removed]",
      "text/plain": [
       "<Figure size 432x288 with 1 Axes>"
      ]
     },
     "metadata": {
      "needs_background": "light"
     },
     "output_type": "display_data"
    }
   ],
   "source": [
    "EPOCHS = 10\n",
    "\n",
    "train_loss, test_loss = train(model, train_dataloader, test_dataloader, epochs=EPOCHS, optimizer=optimizer, criterion=criterion)\n",
    "\n",
    "plt.plot(range(1, EPOCHS+1), train_loss, 'b-', label='Training Loss')\n",
    "plt.plot(range(1, EPOCHS+1), test_loss, 'r-', label='Validation Loss')"
   ]
  },
  {
   "cell_type": "code",
   "execution_count": 26,
   "metadata": {},
   "outputs": [
    {
     "data": {
      "image/png": "[encoded data removed]",
      "text/plain": [
       "<Figure size 432x288 with 1 Axes>"
      ]
     },
     "metadata": {
      "needs_background": "light"
     },
     "output_type": "display_data"
    },
    {
     "name": "stdout",
     "output_type": "stream",
     "text": [
      "(tensor(197.5772), tensor(58.9623), tensor(31.4375))\n"
     ]
    }
   ],
   "source": [
    "def evaluate(model, x_test, y_test):\n",
    "    \"\"\"\n",
    "    Evaluate the model on the test set\n",
    "    \"\"\"\n",
    "    y_pred = model(x_test)\n",
    "    y_pred = model.reshape_output(y_pred).detach().cpu()\n",
    "    mse = criterion(y_pred, y_test)\n",
    "    l1 = average_displacement_loss(y_pred, y_test)\n",
    "    l2 = final_displacement_loss(y_pred, y_test)\n",
    "    \n",
    "    plt.plot(x_test[0][0], x_test[0][1], 'bo-')\n",
    "    plt.plot(y_test[0][0], y_test[0][1], 'ro-')\n",
    "    plt.plot(y_pred[0][0], y_pred[0][1], 'go-')\n",
    "    plt.show()\n",
    "    \n",
    "    return mse, l1, l2\n",
    "\n",
    "x_batch, y_batch = next(iter(test_dataloader))\n",
    "x_sample, y_sample = x_batch[0].view(1, 4, 20), y_batch[0].view(1, 4, 20)\n",
    "print(evaluate(model, x_sample, y_sample))"
   ]
  }
 ],
 "metadata": {
  "interpreter": {
   "hash": "05ece30799c2dcdac4c13b3af20453da19de8df0d9a1de52cff7e0b6e1e82bdd"
  },
  "kernelspec": {
   "display_name": "Python 3.6.8 64-bit",
   "language": "python",
   "name": "python3"
  },
  "language_info": {
   "codemirror_mode": {
    "name": "ipython",
    "version": 3
   },
   "file_extension": ".py",
   "mimetype": "text/x-python",
   "name": "python",
   "nbconvert_exporter": "python",
   "pygments_lexer": "ipython3",
   "version": "3.6.8"
  },
  "orig_nbformat": 4
 },
 "nbformat": 4,
 "nbformat_minor": 2
}
